{
 "cells": [
  {
   "cell_type": "code",
   "execution_count": null,
   "metadata": {},
   "outputs": [],
   "source": [
    "# spenders_df = pd.DataFrame({\"SN\": [],\n",
    "#                            \"Purchase Count\": [],\n",
    "#                            \"Average Purchase Price\": [],\n",
    "#                           \"Total Purchase Value\": []})\n",
    "\n",
    "\n",
    "# popular_df = pd.DataFrame({\"Item ID\": [],\n",
    "#                            \"Item Name\": [],\n",
    "#                            \"Purchase Count\": [],\n",
    "#                            \"Item Price\": [],\n",
    "#                           \"Total Purchase Value\": []})\n",
    "\n",
    "# profitable_df = pd.DataFrame({\"Item ID\": [],\n",
    "#                            \"Item Name\": [],\n",
    "#                            \"Purchase Count\": [],\n",
    "#                            \"Item Price\": [],\n",
    "#                           \"Total Purchase Value\": []})"
   ]
  },
  {
   "cell_type": "code",
   "execution_count": null,
   "metadata": {},
   "outputs": [],
   "source": []
  },
  {
   "cell_type": "code",
   "execution_count": null,
   "metadata": {},
   "outputs": [],
   "source": []
  },
  {
   "cell_type": "code",
   "execution_count": null,
   "metadata": {},
   "outputs": [],
   "source": []
  },
  {
   "cell_type": "code",
   "execution_count": null,
   "metadata": {},
   "outputs": [],
   "source": []
  }
 ],
 "metadata": {
  "kernelspec": {
   "display_name": "Python 3",
   "language": "python",
   "name": "python3"
  },
  "language_info": {
   "codemirror_mode": {
    "name": "ipython",
    "version": 3
   },
   "file_extension": ".py",
   "mimetype": "text/x-python",
   "name": "python",
   "nbconvert_exporter": "python",
   "pygments_lexer": "ipython3",
   "version": "3.6.4"
  }
 },
 "nbformat": 4,
 "nbformat_minor": 2
}
